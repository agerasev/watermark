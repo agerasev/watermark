{
 "cells": [
  {
   "cell_type": "code",
   "execution_count": 25,
   "id": "29ec1740-0075-4fc6-b92e-36fa374a6285",
   "metadata": {
    "tags": []
   },
   "outputs": [],
   "source": [
    "import json\n",
    "from urllib.request import Request, urlopen\n",
    "import ssl\n",
    "from pathlib import Path"
   ]
  },
  {
   "cell_type": "code",
   "execution_count": 15,
   "id": "02cbabd1-bccb-4ff2-b895-cf1f3fb78abe",
   "metadata": {
    "tags": []
   },
   "outputs": [],
   "source": [
    "ctx = ssl.create_default_context()\n",
    "ctx.check_hostname = False\n",
    "ctx.verify_mode = ssl.CERT_NONE"
   ]
  },
  {
   "cell_type": "code",
   "execution_count": 35,
   "id": "0f1dcab7-3f5a-43e6-bd86-6e369358e762",
   "metadata": {
    "tags": []
   },
   "outputs": [],
   "source": [
    "headers = {\n",
    "    \"User-Agent\": \"Mozilla/5.0 (X11; Linux x86_64; rv:102.0) Gecko/20100101 Firefox/102.0\",\n",
    "}"
   ]
  },
  {
   "cell_type": "code",
   "execution_count": 49,
   "id": "b1b3346e-bb27-479c-bfe8-969d01a0336e",
   "metadata": {
    "tags": []
   },
   "outputs": [],
   "source": [
    "album_id = \"c820920f-b92c-4353-9627-ce1c5699fd9a\"\n",
    "batch_size = 100"
   ]
  },
  {
   "cell_type": "code",
   "execution_count": null,
   "id": "2606d9c5-101e-45ea-8f8e-a18a843ba256",
   "metadata": {
    "tags": []
   },
   "outputs": [],
   "source": [
    "registry = []\n",
    "while True:\n",
    "    req = Request(\n",
    "        f\"https://mysport.photo/public/photo-service/api/v1/photos?albumId={album_id}&offset={len(registry)}&count={batch_size}\",\n",
    "        headers=headers,\n",
    "    )\n",
    "    res = urlopen(req, context=ctx)\n",
    "    data = json.loads(res.read())\n",
    "    total = data[\"total\"]\n",
    "    registry += data[\"values\"]\n",
    "    print(f\"registered {len(registry)} of {total}\")\n",
    "    if len(registry) >= total:\n",
    "        break"
   ]
  },
  {
   "cell_type": "code",
   "execution_count": 52,
   "id": "42b7f66b-71f4-446a-9d81-3f11387ed426",
   "metadata": {
    "tags": []
   },
   "outputs": [],
   "source": [
    "with open(\"registry.json\", \"w\") as f:\n",
    "    f.write(json.dumps(registry))"
   ]
  },
  {
   "cell_type": "code",
   "execution_count": 53,
   "id": "98046c48-8410-4755-9aa8-bf3561f9577d",
   "metadata": {
    "tags": []
   },
   "outputs": [],
   "source": [
    "with open(\"registry.json\", \"r\") as f:\n",
    "    registry = json.loads(f.read())"
   ]
  },
  {
   "cell_type": "code",
   "execution_count": 54,
   "id": "65c4ebd8-5683-4dc8-b959-bfa42ec4e9d9",
   "metadata": {
    "tags": []
   },
   "outputs": [],
   "source": [
    "base_dir = Path(\"photos\")\n",
    "base_dir.mkdir(exist_ok=True)"
   ]
  },
  {
   "cell_type": "code",
   "execution_count": null,
   "id": "9a2ab48f-7bea-4095-b025-5beb5be102e8",
   "metadata": {
    "tags": []
   },
   "outputs": [],
   "source": [
    "for i, item in enumerate(registry):\n",
    "    path = base_dir / (item[\"photoId\"] + \".jpg\")\n",
    "    if not path.exists():\n",
    "        with open(path, \"wb\") as f:\n",
    "            data = urlopen(Request(item[\"resources\"][\"watermark\"], headers=headers), context=ctx)\n",
    "            f.write(data.read())\n",
    "    print(f\"downloaded {i + 1} of {len(registry)}\")"
   ]
  }
 ],
 "metadata": {
  "kernelspec": {
   "display_name": "Python 3 (ipykernel)",
   "language": "python",
   "name": "python3"
  },
  "language_info": {
   "codemirror_mode": {
    "name": "ipython",
    "version": 3
   },
   "file_extension": ".py",
   "mimetype": "text/x-python",
   "name": "python",
   "nbconvert_exporter": "python",
   "pygments_lexer": "ipython3",
   "version": "3.11.2"
  }
 },
 "nbformat": 4,
 "nbformat_minor": 5
}
