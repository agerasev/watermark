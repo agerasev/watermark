{
 "cells": [
  {
   "cell_type": "code",
   "execution_count": null,
   "id": "29ec1740-0075-4fc6-b92e-36fa374a6285",
   "metadata": {
    "tags": []
   },
   "outputs": [],
   "source": [
    "import json\n",
    "from urllib.request import Request, urlopen\n",
    "import ssl\n",
    "from pathlib import Path\n",
    "import shutil"
   ]
  },
  {
   "cell_type": "code",
   "execution_count": null,
   "id": "02cbabd1-bccb-4ff2-b895-cf1f3fb78abe",
   "metadata": {
    "tags": []
   },
   "outputs": [],
   "source": [
    "ctx = ssl.create_default_context()\n",
    "ctx.check_hostname = False\n",
    "ctx.verify_mode = ssl.CERT_NONE"
   ]
  },
  {
   "cell_type": "code",
   "execution_count": null,
   "id": "0f1dcab7-3f5a-43e6-bd86-6e369358e762",
   "metadata": {
    "tags": []
   },
   "outputs": [],
   "source": [
    "base_headers = {\n",
    "    \"User-Agent\": \"Mozilla/5.0 (X11; Linux x86_64; rv:102.0) Gecko/20100101 Firefox/102.0\",\n",
    "}"
   ]
  },
  {
   "cell_type": "markdown",
   "id": "67a78513-09c9-4221-bef9-e0954a35ff5a",
   "metadata": {},
   "source": [
    "## Get token"
   ]
  },
  {
   "cell_type": "code",
   "execution_count": null,
   "id": "627bbfea-163f-4475-a535-9dbeabd95609",
   "metadata": {
    "tags": []
   },
   "outputs": [],
   "source": [
    "event_id = \"0c6146c7-0a4b-4eda-a716-53cfb33b734f\""
   ]
  },
  {
   "cell_type": "code",
   "execution_count": null,
   "id": "72a9f45c-4419-42d0-8bdd-f6a4513556e5",
   "metadata": {
    "tags": []
   },
   "outputs": [],
   "source": [
    "def get_token(event_id, person_id=None):\n",
    "    req = Request(\n",
    "        f\"https://mysport.photo/public/competitor-service/api/v1/competitors/{event_id}/token\",\n",
    "        headers={\"Content-Type\": \"application/json\", **base_headers},\n",
    "        data=json.dumps({ \"personId\": person_id } if person_id is not None else {}).encode(),\n",
    "    )\n",
    "    res = urlopen(req, context=ctx)\n",
    "    return json.loads(res.read())[\"value\"]"
   ]
  },
  {
   "cell_type": "code",
   "execution_count": null,
   "id": "18dcdb90-6c00-45d0-8f64-d05455997624",
   "metadata": {
    "tags": []
   },
   "outputs": [],
   "source": [
    "token = get_token(event_id)\n",
    "print(f\"{token = }\")\n",
    "headers = { \"Authorization\": f\"Bearer {token}\", **base_headers }"
   ]
  },
  {
   "cell_type": "markdown",
   "id": "b156a295-3129-4832-a23a-0790ce8b213e",
   "metadata": {},
   "source": [
    "## Download registry"
   ]
  },
  {
   "cell_type": "code",
   "execution_count": null,
   "id": "b1b3346e-bb27-479c-bfe8-969d01a0336e",
   "metadata": {
    "tags": []
   },
   "outputs": [],
   "source": [
    "album_id = \"0c6146c7-0a4b-4eda-a716-53cfb33b734f\""
   ]
  },
  {
   "cell_type": "code",
   "execution_count": null,
   "id": "69823898-63b0-486b-8b4b-32354e8cdad1",
   "metadata": {
    "tags": []
   },
   "outputs": [],
   "source": [
    "def load_registry(album_id, headers, batch_size=100):\n",
    "    registry = []\n",
    "    while True:\n",
    "        url = f\"https://mysport.photo/public/photo-service/api/v1/photos?albumId={album_id}&offset={len(registry)}&count={batch_size}\"\n",
    "        req = Request(\n",
    "            url,\n",
    "            headers=headers,\n",
    "        )\n",
    "        res = urlopen(req, context=ctx)\n",
    "        data = json.loads(res.read())\n",
    "        total = data[\"total\"]\n",
    "        registry += data[\"values\"]\n",
    "        print(f\"registered {len(registry)} of {total}\")\n",
    "        if len(registry) >= total:\n",
    "            break\n",
    "    return registry"
   ]
  },
  {
   "cell_type": "code",
   "execution_count": null,
   "id": "2606d9c5-101e-45ea-8f8e-a18a843ba256",
   "metadata": {
    "tags": []
   },
   "outputs": [],
   "source": [
    "registry = load_registry(album_id, headers)"
   ]
  },
  {
   "cell_type": "code",
   "execution_count": null,
   "id": "42b7f66b-71f4-446a-9d81-3f11387ed426",
   "metadata": {
    "tags": []
   },
   "outputs": [],
   "source": [
    "with open(\"registry.json\", \"w\") as f:\n",
    "    f.write(json.dumps(registry))"
   ]
  },
  {
   "cell_type": "code",
   "execution_count": null,
   "id": "98046c48-8410-4755-9aa8-bf3561f9577d",
   "metadata": {
    "tags": []
   },
   "outputs": [],
   "source": [
    "with open(\"registry.json\", \"r\") as f:\n",
    "    registry = json.loads(f.read())"
   ]
  },
  {
   "cell_type": "markdown",
   "id": "e5552e22-d79e-47a5-bf7e-f69a483cf338",
   "metadata": {},
   "source": [
    "## Download all photos"
   ]
  },
  {
   "cell_type": "code",
   "execution_count": null,
   "id": "65c4ebd8-5683-4dc8-b959-bfa42ec4e9d9",
   "metadata": {
    "tags": []
   },
   "outputs": [],
   "source": [
    "base_dir = Path(\"photos\")\n",
    "base_dir.mkdir(exist_ok=True)"
   ]
  },
  {
   "cell_type": "code",
   "execution_count": null,
   "id": "9a2ab48f-7bea-4095-b025-5beb5be102e8",
   "metadata": {
    "tags": []
   },
   "outputs": [],
   "source": [
    "for i, item in enumerate(registry):\n",
    "    path = base_dir / (item[\"photoId\"] + \".jpg\")\n",
    "    if not path.exists():\n",
    "        with open(path, \"wb\") as f:\n",
    "            data = urlopen(Request(item[\"resources\"][\"watermark\"], headers=headers), context=ctx)\n",
    "            f.write(data.read())\n",
    "    print(f\"downloaded {i + 1} of {len(registry)}\")"
   ]
  },
  {
   "cell_type": "markdown",
   "id": "eae2aa03-2b0b-42d0-ac3d-5e82da4af2ed",
   "metadata": {},
   "source": [
    "## Find person"
   ]
  },
  {
   "cell_type": "code",
   "execution_count": null,
   "id": "0ee4aeac-69e8-4c08-a690-197b2fb5c56f",
   "metadata": {
    "tags": []
   },
   "outputs": [],
   "source": [
    "person_id = \"person12055\"\n",
    "person_token = get_token(event_id, person_id=person_id)\n",
    "print(f\"{token = }\")\n",
    "person_headers = { \"Authorization\": f\"Bearer {person_token}\", **base_headers }"
   ]
  },
  {
   "cell_type": "code",
   "execution_count": null,
   "id": "2b9f5b56-8336-4bc4-bd8f-9774e41f962c",
   "metadata": {
    "tags": []
   },
   "outputs": [],
   "source": [
    "person_registry = load_registry(album_id, headers=person_headers)"
   ]
  },
  {
   "cell_type": "code",
   "execution_count": null,
   "id": "ecf0b750-eec3-48b4-9ba6-245b591d6a0e",
   "metadata": {
    "tags": []
   },
   "outputs": [],
   "source": [
    "input_dir = Path(\"input\")\n",
    "input_dir.mkdir(exist_ok=True)"
   ]
  },
  {
   "cell_type": "code",
   "execution_count": null,
   "id": "fd305d8b-df25-41a5-8045-9382b7861186",
   "metadata": {
    "tags": []
   },
   "outputs": [],
   "source": [
    "count = 0\n",
    "for item in person_registry:\n",
    "    file_name = item[\"photoId\"] + \".jpg\"\n",
    "    src_path = base_dir / file_name\n",
    "    dst_path = input_dir / file_name\n",
    "    if src_path.exists():\n",
    "        shutil.copy2(src_path, dst_path)\n",
    "        count += 1\n",
    "    else:\n",
    "        print(f\"File {src_path} not found\")\n",
    "print(f\"Copied {count} of {len(person_registry)} files\")"
   ]
  },
  {
   "cell_type": "code",
   "execution_count": null,
   "id": "1cc8f8e1-6334-4c28-adc1-0f7f52289de4",
   "metadata": {},
   "outputs": [],
   "source": []
  }
 ],
 "metadata": {
  "kernelspec": {
   "display_name": "Python 3 (ipykernel)",
   "language": "python",
   "name": "python3"
  },
  "language_info": {
   "codemirror_mode": {
    "name": "ipython",
    "version": 3
   },
   "file_extension": ".py",
   "mimetype": "text/x-python",
   "name": "python",
   "nbconvert_exporter": "python",
   "pygments_lexer": "ipython3",
   "version": "3.11.2"
  }
 },
 "nbformat": 4,
 "nbformat_minor": 5
}
