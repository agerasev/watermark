{
 "cells": [
  {
   "cell_type": "code",
   "execution_count": null,
   "id": "3af666cc-0113-4f7b-962e-0fddb19e08f6",
   "metadata": {
    "tags": []
   },
   "outputs": [],
   "source": [
    "from pathlib import Path"
   ]
  },
  {
   "cell_type": "code",
   "execution_count": null,
   "id": "be2f7e46-a3c7-4308-95c8-77f8c0b75665",
   "metadata": {
    "tags": []
   },
   "outputs": [],
   "source": [
    "import numpy as np\n",
    "from PIL import Image\n",
    "from scipy import fft\n",
    "from skimage.restoration import inpaint"
   ]
  },
  {
   "cell_type": "code",
   "execution_count": null,
   "id": "5c2a4c1c-bf9c-4af1-9994-4ff898665010",
   "metadata": {
    "tags": []
   },
   "outputs": [],
   "source": [
    "base_dir = Path(\"photos\")"
   ]
  },
  {
   "cell_type": "code",
   "execution_count": null,
   "id": "d6a83cdf-0dd8-4ba8-bdcf-76a1be855051",
   "metadata": {
    "tags": []
   },
   "outputs": [],
   "source": [
    "size = (666, 1000)"
   ]
  },
  {
   "cell_type": "code",
   "execution_count": null,
   "id": "1bd187a7-c023-4ba3-9844-c4d4195b34c5",
   "metadata": {
    "tags": []
   },
   "outputs": [],
   "source": [
    "max_count = 1000\n",
    "statistics = []\n",
    "for path in base_dir.iterdir():\n",
    "    with Image.open(path) as im:\n",
    "        if im.size == size:\n",
    "            statistics.append(np.asarray(im))\n",
    "            if len(statistics) % (max_count // 20) == 0:\n",
    "                print(f\"Loaded {int(100.0 * (len(statistics) / max_count))} %\")\n",
    "            if len(statistics) >= max_count:\n",
    "                break\n",
    "statistics = np.stack(statistics)\n",
    "print(f\"Loaded {len(statistics)} images\")"
   ]
  },
  {
   "cell_type": "code",
   "execution_count": null,
   "id": "86f30f6b-d54b-405c-89e7-3cda1d70cf36",
   "metadata": {
    "tags": []
   },
   "outputs": [],
   "source": [
    "dark = np.quantile(statistics, 0.01, axis=0)\n",
    "Image.fromarray(dark.astype(np.uint8))"
   ]
  },
  {
   "cell_type": "code",
   "execution_count": null,
   "id": "67786beb-3b06-4066-864c-65e8e1fb2671",
   "metadata": {
    "tags": []
   },
   "outputs": [],
   "source": [
    "light = np.quantile(statistics, 0.99, axis=0)\n",
    "Image.fromarray(light.astype(np.uint8))"
   ]
  },
  {
   "cell_type": "code",
   "execution_count": null,
   "id": "942639ae-7236-48bb-9f04-de1c14783102",
   "metadata": {
    "tags": []
   },
   "outputs": [],
   "source": [
    "del statistics"
   ]
  },
  {
   "cell_type": "code",
   "execution_count": null,
   "id": "679743f5-3272-4773-acea-aa8a6e362483",
   "metadata": {
    "tags": []
   },
   "outputs": [],
   "source": [
    "def grayscale(image):\n",
    "    return np.inner(image, np.array([0.2126, 0.7152, 0.0722]))"
   ]
  },
  {
   "cell_type": "code",
   "execution_count": null,
   "id": "a768abb7-9e0a-4669-b419-ee2ba3adf7ca",
   "metadata": {
    "tags": []
   },
   "outputs": [],
   "source": [
    "alpha = (255.0 - (light - dark))\n",
    "\n",
    "#alpha = np.mean(alpha, axis=2, keepdims=True)\n",
    "# or\n",
    "alpha = np.expand_dims(grayscale(alpha), axis=2)\n",
    "\n",
    "color = (255.0 * dark / alpha).clip(0.0, 255.0)\n",
    "overlay = np.concatenate([color, alpha], axis=2)\n",
    "Image.fromarray(overlay.astype(np.uint8))#.save(\"mask.png\")"
   ]
  },
  {
   "cell_type": "code",
   "execution_count": null,
   "id": "b888cb80-6aed-4f5a-944e-21016047d1e4",
   "metadata": {
    "tags": []
   },
   "outputs": [],
   "source": [
    "mask = ((alpha / 255.0) > 0.66).squeeze(2)\n",
    "Image.fromarray(255 * mask.astype(np.uint8))"
   ]
  },
  {
   "cell_type": "code",
   "execution_count": null,
   "id": "5144398c-6e64-40d8-a994-e3464bf8c2df",
   "metadata": {
    "tags": []
   },
   "outputs": [],
   "source": [
    "in_dir = Path(\"input\")\n",
    "out_dir = Path(\"output\")\n",
    "out_dir.mkdir(exist_ok=True)"
   ]
  },
  {
   "cell_type": "code",
   "execution_count": null,
   "id": "a57ae091-8659-46ca-98e6-751f7afe9901",
   "metadata": {
    "tags": []
   },
   "outputs": [],
   "source": [
    "images = {}\n",
    "for path in in_dir.iterdir():\n",
    "    with Image.open(path) as im:\n",
    "        if im.size == size:\n",
    "            images[path.stem] = np.asarray(im)\n",
    "print(f\"Loaded {len(images)} images\")"
   ]
  },
  {
   "cell_type": "code",
   "execution_count": null,
   "id": "82349dfd-a564-4e58-b03e-ae22ff939575",
   "metadata": {
    "tags": []
   },
   "outputs": [],
   "source": [
    "def subtract(image):\n",
    "    return 255.0 * (image - dark) / (light - dark)"
   ]
  },
  {
   "cell_type": "code",
   "execution_count": null,
   "id": "e6f5825e-eb1a-4803-be4f-10e388362987",
   "metadata": {
    "tags": []
   },
   "outputs": [],
   "source": [
    "def circle(size, radius):\n",
    "    m = np.sqrt(size[0] * size[1])\n",
    "    xs = np.expand_dims((np.arange(size[0], dtype=\"float\") + 0.5) / size[0] - 0.5, axis=0) * (size[0] / m)\n",
    "    ys = np.expand_dims((np.arange(size[1], dtype=\"float\") + 0.5) / size[1] - 0.5, axis=1) * (size[1] / m)\n",
    "    rs = np.sqrt(xs ** 2 + ys ** 2)\n",
    "    return np.expand_dims(rs < (radius / 2), axis=2)\n",
    "\n",
    "#Image.fromarray(255 * circle(size, 0.5).squeeze(2).astype(np.uint8))"
   ]
  },
  {
   "cell_type": "code",
   "execution_count": null,
   "id": "021b0194-741b-4c4b-9108-4d5fdd070acd",
   "metadata": {
    "tags": []
   },
   "outputs": [],
   "source": [
    "def low_pass_filter(image):\n",
    "    axes = (0, 1)\n",
    "    freqs = fft.fftshift(fft.fft2(image, axes=axes), axes=axes)\n",
    "    freqs *= circle(size, 0.66)\n",
    "    image = np.real(fft.ifft2(fft.ifftshift(freqs, axes=axes), axes=axes))\n",
    "    return image"
   ]
  },
  {
   "cell_type": "code",
   "execution_count": null,
   "id": "9e0a3c03-9a84-45e4-85dd-b97ce145aec2",
   "metadata": {
    "tags": []
   },
   "outputs": [],
   "source": [
    "def fill_mask(image):\n",
    "    return inpaint.inpaint_biharmonic(image, mask, channel_axis=2)"
   ]
  },
  {
   "cell_type": "code",
   "execution_count": null,
   "id": "2aef262c-6ddb-4c21-b04a-fb8cf7156d6b",
   "metadata": {
    "tags": []
   },
   "outputs": [],
   "source": [
    "def interpolate(x, y, alpha):\n",
    "    return (1.0 - alpha) * x + alpha * y"
   ]
  },
  {
   "cell_type": "code",
   "execution_count": null,
   "id": "d91017a4-c401-413f-94f6-4108fea375cc",
   "metadata": {
    "tags": []
   },
   "outputs": [],
   "source": [
    "for name, image in images.items():\n",
    "    image = subtract(image)\n",
    "    #image = interpolate(image, low_pass_filter(image), alpha / 255.0)\n",
    "    image = fill_mask(image)\n",
    "    output = Image.fromarray(image.clip(0, 255).astype(np.uint8))\n",
    "    output.save(out_dir / (name + \".png\"))\n",
    "output"
   ]
  },
  {
   "cell_type": "code",
   "execution_count": null,
   "id": "f6a1e564-443a-40d7-a913-ceca28fde72c",
   "metadata": {},
   "outputs": [],
   "source": []
  }
 ],
 "metadata": {
  "kernelspec": {
   "display_name": "Python 3 (ipykernel)",
   "language": "python",
   "name": "python3"
  },
  "language_info": {
   "codemirror_mode": {
    "name": "ipython",
    "version": 3
   },
   "file_extension": ".py",
   "mimetype": "text/x-python",
   "name": "python",
   "nbconvert_exporter": "python",
   "pygments_lexer": "ipython3",
   "version": "3.11.2"
  }
 },
 "nbformat": 4,
 "nbformat_minor": 5
}
